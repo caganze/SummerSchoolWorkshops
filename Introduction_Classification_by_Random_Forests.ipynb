{
  "nbformat": 4,
  "nbformat_minor": 0,
  "metadata": {
    "colab": {
      "name": " Introduction  Classification by Random Forests ",
      "provenance": [],
      "collapsed_sections": [
        "wnWTVwLbErVA"
      ],
      "authorship_tag": "ABX9TyOC1mtG/GJg5148qGczluGe",
      "include_colab_link": true
    },
    "kernelspec": {
      "name": "python3",
      "display_name": "Python 3"
    },
    "language_info": {
      "name": "python"
    }
  },
  "cells": [
    {
      "cell_type": "markdown",
      "metadata": {
        "id": "view-in-github",
        "colab_type": "text"
      },
      "source": [
        "<a href=\"https://colab.research.google.com/github/caganze/SummerSchoolWorkshops/blob/main/Introduction_Classification_by_Random_Forests.ipynb\" target=\"_parent\"><img src=\"https://colab.research.google.com/assets/colab-badge.svg\" alt=\"Open In Colab\"/></a>"
      ]
    },
    {
      "cell_type": "code",
      "metadata": {
        "id": "-5kiO5uGmy2N"
      },
      "source": [
        "#install astroquery\n",
        "%%capture\n",
        "!pip install astroquery"
      ],
      "execution_count": null,
      "outputs": []
    },
    {
      "cell_type": "code",
      "metadata": {
        "id": "9BG11Z87ikXh"
      },
      "source": [
        "from astroquery.sdss import SDSS  # enables direct queries to the SDSS database\n",
        "import matplotlib.pyplot as plt \n",
        "import seaborn as sns\n",
        "import numpy as np\n",
        "import pandas as pd\n",
        "import warnings\n",
        "from tqdm import tqdm\n",
        "warnings.filterwarnings(\"ignore\")"
      ],
      "execution_count": null,
      "outputs": []
    },
    {
      "cell_type": "code",
      "metadata": {
        "id": "aSzZ0X8R6VNA"
      },
      "source": [
        "#plotting aesthetics\n",
        "import matplotlib as mpl\n",
        "import seaborn as sns\n",
        "plt.style.use('fivethirtyeight')\n",
        "mpl.rcParams['grid.color'] = 'k'\n",
        "mpl.rcParams['grid.linestyle'] = '--'\n",
        "mpl.rcParams['grid.linewidth'] = 0.5\n",
        "mpl.rcParams['axes.linewidth'] = 1.5\n",
        "mpl.rcParams['figure.figsize'] = [8.0, 4.0]\n",
        "mpl.rcParams['figure.dpi'] = 80\n",
        "mpl.rcParams['savefig.dpi'] = 100\n",
        "mpl.rcParams['font.size'] = 18\n",
        "mpl.rcParams['legend.fontsize'] = 'large'\n",
        "mpl.rcParams['figure.titlesize'] = 'large'\n",
        "mpl.rcParams['xtick.bottom']=True\n",
        "mpl.rcParams['xtick.top']=True\n",
        "mpl.rcParams['xtick.major.width']=0.9\n",
        "mpl.rcParams['xtick.minor.width']=0.9\n",
        "mpl.rcParams['ytick.major.width']=0.9\n",
        "mpl.rcParams['ytick.minor.width']=0.9\n",
        "mpl.rcParams['ytick.right']=True\n",
        "mpl.rcParams['ytick.left']=True\n",
        "mpl.rcParams['xtick.direction']='in'\n",
        "mpl.rcParams['ytick.direction']='in'\n",
        "\n",
        "mpl.rc('xtick', labelsize=14) \n",
        "mpl.rc('ytick', labelsize=14) \n",
        "font = {'family' : 'Helvetica',\n",
        "        'size'   : 14}\n",
        "mpl.rc('font', **font)\n",
        "mpl.rc('text', usetex=False)\n",
        "mpl.rcParams['agg.path.chunksize'] = 10000"
      ],
      "execution_count": null,
      "outputs": []
    },
    {
      "cell_type": "markdown",
      "metadata": {
        "id": "GB2wsnfUtKyg"
      },
      "source": [
        "\n",
        "Let's select magnitud measurements for 100000 stars and galaxies from SDSS.\n",
        "\n",
        "\n",
        "* p.mode = 1 select only the primary photometric detection of a source\n",
        "\n",
        "* s.sciencePrimary = 1 select only the primary spectroscopic detection of a source (together with above, prevents duplicates)\n",
        "\n",
        "* p.clean = 1 the SDSS clean flag excludes flagged observations and sources with non-detections\n",
        "\n",
        "* s.class != 'QSO' removes potentially ambiguous QSOs from the training set\n",
        "\n",
        "\n"
      ]
    },
    {
      "cell_type": "code",
      "metadata": {
        "id": "pzV30i_9mwD6"
      },
      "source": [
        "#query a 10000 objects \n",
        "TSquery = \"\"\"SELECT TOP 10000 \n",
        "             p.psfMag_r, p.fiberMag_r, p.fiber2Mag_r, p.petroMag_r, \n",
        "             p.deVMag_r, p.expMag_r, p.modelMag_r, p.cModelMag_r, \n",
        "             s.class\n",
        "             FROM PhotoObjAll AS p JOIN specObjAll s ON s.bestobjid = p.objid\n",
        "             WHERE p.mode = 1 AND s.sciencePrimary = 1 AND p.clean = 1 AND s.class != 'QSO'\n",
        "             ORDER BY p.objid ASC\n",
        "               \"\"\"\n",
        "SDSSts = SDSS.query_sql(TSquery).to_pandas()\n",
        "SDSSts.head()"
      ],
      "execution_count": null,
      "outputs": []
    },
    {
      "cell_type": "code",
      "metadata": {
        "id": "K6ojEjox0M5B"
      },
      "source": [
        "#quick visualization of the data \n",
        "fig, ax=plt.subplots(figsize=(6, 4))\n",
        "sns.scatterplot(x=\"psfMag_r\", y=\"modelMag_r\",\n",
        "            hue=\"class\", palette=[\"#FF4136\", \"#0074D9\"], style=\"class\",\n",
        "            data=SDSSts, ax=ax)"
      ],
      "execution_count": null,
      "outputs": []
    },
    {
      "cell_type": "markdown",
      "metadata": {
        "id": "lHTjKkn6jdqH"
      },
      "source": [
        "# Random Forest Classifier Example"
      ]
    },
    {
      "cell_type": "markdown",
      "metadata": {
        "id": "5ovqQzdTJ_x-"
      },
      "source": [
        "Let's do some reformatting of the data to allow numerical spectral types \\\n",
        "\n"
      ]
    },
    {
      "cell_type": "code",
      "metadata": {
        "id": "I5NoG3gZ8EvE"
      },
      "source": [
        "#some reformatting \n",
        "#let's use numerical labels\n",
        "def numerical_class(c):\n",
        "  if c==b'GALAXY':\n",
        "    return 0\n",
        "  elif c==b'STAR':\n",
        "    return 1\n",
        "  else:\n",
        "    return -1\n",
        "SDSSts['num_class']=SDSSts['class'].apply(numerical_class)"
      ],
      "execution_count": null,
      "outputs": []
    },
    {
      "cell_type": "code",
      "metadata": {
        "id": "4jG9L-C2Hhub"
      },
      "source": [
        "SDSSts.head(5)"
      ],
      "execution_count": null,
      "outputs": []
    },
    {
      "cell_type": "code",
      "metadata": {
        "id": "6A4CuOsd9LYM"
      },
      "source": [
        "len(SDSSts[SDSSts['num_class']==0]), len(SDSSts[SDSSts['num_class']==1])"
      ],
      "execution_count": null,
      "outputs": []
    },
    {
      "cell_type": "markdown",
      "metadata": {
        "id": "vpf0jN9CEk1v"
      },
      "source": [
        "Let's split the data into a a training, validation and test set \n",
        "\n",
        "This is a critical step in a setting up our machine learning model. \n",
        "\n",
        "Splitting the data into smaller these sets allows us to fit the model and evaluate how our machine learning model would perform on unseen/new data. ` sklearn ` has all these tools built in for us, we can just call them directly "
      ]
    },
    {
      "cell_type": "code",
      "metadata": {
        "id": "4QlZ8i3qjiJl"
      },
      "source": [
        "from sklearn.model_selection import train_test_split\n",
        "RSEED = 42  \n",
        "\n",
        "#remove \n",
        "feats = list(SDSSts.columns)\n",
        "feats.remove('class')\n",
        "feats.remove('num_class')\n",
        "\n",
        "X0 = np.array(SDSSts[feats]) #data\n",
        "y0 = np.array(SDSSts['num_class']) #labels \n",
        "\n",
        "X_train, X_test, y_train, y_test = train_test_split(X0,y0,train_size=0.75, random_state=RSEED, shuffle=True)"
      ],
      "execution_count": null,
      "outputs": []
    },
    {
      "cell_type": "markdown",
      "metadata": {
        "id": "kkCH8xkULbtg"
      },
      "source": [
        "Let's now build a random forest classifier model directly from Sklearn "
      ]
    },
    {
      "cell_type": "code",
      "metadata": {
        "id": "ZgB3jbPD5vuG"
      },
      "source": [
        "#let's build a random forest classifier \n",
        "from sklearn.ensemble import RandomForestClassifier, RandomForestRegressor\n",
        "from sklearn.metrics import precision_score\n",
        "\n",
        "RF = RandomForestClassifier(n_estimators =50)\n",
        "RF.fit(X_train, y_train) #fitting to the training set \n",
        "test_preds = RF.predict(X_test) #predict on the test \n",
        "\n",
        "print(\"The raw features produce a model with precision ~{:.4f} !\".format(precision_score(y_test, test_preds)))"
      ],
      "execution_count": null,
      "outputs": []
    },
    {
      "cell_type": "markdown",
      "metadata": {
        "id": "m9qG4FU9-nzW"
      },
      "source": [
        "One can find out which magnitudes here are more important in distinguishing beteen stars and galaxies"
      ]
    },
    {
      "cell_type": "code",
      "metadata": {
        "id": "Tm-kADwR-zfG"
      },
      "source": [
        "fig, ax=plt.subplots()\n",
        "\n",
        "tree_feature_importances = (\n",
        "    RF.feature_importances_)\n",
        "    \n",
        "sorted_idx = tree_feature_importances.argsort()\n",
        "\n",
        "x_ticks = np.arange(0, len(feats))\n",
        "ax.bar(x_ticks, tree_feature_importances[sorted_idx])\n",
        "ax.set_xticklabels(np.array(feats)[sorted_idx], rotation='vertical')\n",
        "ax.set_xticks(x_ticks)\n",
        "ax.set_title(\"Random Forest Feature Importance \")"
      ],
      "execution_count": null,
      "outputs": []
    },
    {
      "cell_type": "markdown",
      "metadata": {
        "id": "R8pO0nV6L2s1"
      },
      "source": [
        "The most important magnitude alone cannot distinguish between stars and galaxies since their distributions (stars vs galaxies) overlap"
      ]
    },
    {
      "cell_type": "code",
      "metadata": {
        "id": "dOzKD0rd-14o"
      },
      "source": [
        "#let's look at the distribution of the most important feature\n",
        "fig, ax=plt.subplots()\n",
        "h=plt.hist(SDSSts.psfMag_r[SDSSts.num_class==0], bins='auto',\\\n",
        "           histtype='step', label='GALAXY', lw=3)\n",
        "h=plt.hist(SDSSts.psfMag_r[SDSSts.num_class==1], bins='auto', \\\n",
        "           histtype='step', label='STAR', lw=3 )\n",
        "ax.set(xlabel='PSF Mag r', ylabel='Number ')\n",
        "ax.legend(loc='upper left')\n",
        "#sure these to "
      ],
      "execution_count": null,
      "outputs": []
    },
    {
      "cell_type": "markdown",
      "metadata": {
        "id": "wnWTVwLbErVA"
      },
      "source": [
        "# Evaluating model & Optimizing Parameters: K-fold Cross- Validation and Grid Search"
      ]
    },
    {
      "cell_type": "markdown",
      "metadata": {
        "id": "lZGf0sf6tZog"
      },
      "source": [
        "\n",
        "Let's use the idea of cross-validation to evaluate the performance of this  model on a new dataset "
      ]
    },
    {
      "cell_type": "code",
      "metadata": {
        "id": "sFHeynlStX70"
      },
      "source": [
        "#manual k-fold cross validation\n",
        "from numpy import array\n",
        "from sklearn.model_selection import KFold"
      ],
      "execution_count": null,
      "outputs": []
    },
    {
      "cell_type": "markdown",
      "metadata": {
        "id": "zak7yZ9K2aue"
      },
      "source": [
        "Let's perform a random search over the number of trees using sklearn functions"
      ]
    },
    {
      "cell_type": "code",
      "metadata": {
        "id": "hShm_68AAbLY"
      },
      "source": [
        "from sklearn.model_selection import RandomizedSearchCV"
      ],
      "execution_count": null,
      "outputs": []
    },
    {
      "cell_type": "markdown",
      "metadata": {
        "id": "9PvS-ACitPSM"
      },
      "source": [
        "Reformat our error function to be digestible by sklearn"
      ]
    },
    {
      "cell_type": "code",
      "metadata": {
        "id": "Jtixi-vX8zML"
      },
      "source": [
        "def perform_random_search(X_train, y_train):\n",
        "  \"\"\"\n",
        "  This function perfoms a search over an set of models using cross-validation\n",
        "\n",
        "  The best function is defined to have the highest precision\n",
        "  \"\"\"\n",
        "  #default is 5-fold CV but can be modified\n",
        "  param_dist = {'n_estimators': np.linspace(20, 500, 5, dtype=int)}            \n",
        "  random_search = RandomizedSearchCV( RandomForestClassifier(), param_distributions=param_dist, n_jobs=-1, \n",
        "                                     verbose=True, random_state=RSEED, scoring='precision' )\n",
        "  random_search.fit(X_train, y_train)\n",
        "  print ('our best model has {} estimators'.format( random_search.best_estimator_.n_estimators))\n",
        "  return random_search.best_estimator_\n"
      ],
      "execution_count": null,
      "outputs": []
    },
    {
      "cell_type": "code",
      "source": [
        "#evaluate our best model\n",
        "best_model=perform_random_search(X_train, y_train)"
      ],
      "metadata": {
        "id": "ZYHQhzAfPeTm"
      },
      "execution_count": null,
      "outputs": []
    },
    {
      "cell_type": "code",
      "metadata": {
        "id": "Ow7GBh3A_63p"
      },
      "source": [
        "best_model.fit(X_train, y_train)\n",
        "test_preds = best_model.predict(X_test)\n",
        "\n",
        "print(\"With an optimized mode, we get a precision of ~{:.4f} !\".format(precision_score(y_test, test_preds)))"
      ],
      "execution_count": null,
      "outputs": []
    },
    {
      "cell_type": "markdown",
      "metadata": {
        "id": "zo3hlfbttGER"
      },
      "source": [
        "Challenge problem: replace  RandomizedSearchCV by GridSearchCV, compare results\n",
        "\n",
        "> Indented block\n",
        "\n"
      ]
    },
    {
      "cell_type": "code",
      "source": [
        "#insert code here "
      ],
      "metadata": {
        "id": "4MxVzJlH8B1o"
      },
      "execution_count": null,
      "outputs": []
    },
    {
      "cell_type": "markdown",
      "metadata": {
        "id": "tIV04Ws0R1NX"
      },
      "source": [
        "# References & Sources"
      ]
    },
    {
      "cell_type": "markdown",
      "metadata": {
        "id": "HVm8wqVRR6ZV"
      },
      "source": [
        "This notebook uses some material from the LSST-DSFP fellowship program Session 1 shorturl.at/tzMTY , sklearn documentation and astroquery documentation"
      ]
    },
    {
      "cell_type": "code",
      "metadata": {
        "id": "snLUzjcoSNKC"
      },
      "source": [
        ""
      ],
      "execution_count": null,
      "outputs": []
    }
  ]
}